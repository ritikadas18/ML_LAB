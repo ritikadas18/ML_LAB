{
  "nbformat": 4,
  "nbformat_minor": 0,
  "metadata": {
    "colab": {
      "name": "lab.ipynb",
      "provenance": [],
      "include_colab_link": true
    },
    "kernelspec": {
      "name": "python3",
      "display_name": "Python 3"
    }
  },
  "cells": [
    {
      "cell_type": "markdown",
      "metadata": {
        "id": "view-in-github",
        "colab_type": "text"
      },
      "source": [
        "<a href=\"https://colab.research.google.com/github/ritikadas18/ML_LAB/blob/main/lab.ipynb\" target=\"_parent\"><img src=\"https://colab.research.google.com/assets/colab-badge.svg\" alt=\"Open In Colab\"/></a>"
      ]
    },
    {
      "cell_type": "code",
      "metadata": {
        "id": "WL7oyhPtasvD",
        "colab": {
          "base_uri": "https://localhost:8080/"
        },
        "outputId": "7b68b1f2-ff38-438f-d61a-a82992f5e5f1"
      },
      "source": [
        "!git clone https://github.com/ritikadas18/ML_LAB.git"
      ],
      "execution_count": null,
      "outputs": [
        {
          "output_type": "stream",
          "text": [
            "Cloning into 'ML_LAB'...\n",
            "remote: Enumerating objects: 3, done.\u001b[K\n",
            "remote: Counting objects: 100% (3/3), done.\u001b[K\n",
            "remote: Total 3 (delta 0), reused 0 (delta 0), pack-reused 0\u001b[K\n",
            "Unpacking objects: 100% (3/3), done.\n"
          ],
          "name": "stdout"
        }
      ]
    },
    {
      "cell_type": "code",
      "metadata": {
        "colab": {
          "base_uri": "https://localhost:8080/"
        },
        "id": "eyUHv2j0BOG9",
        "outputId": "c95e60af-3692-4e47-fbc6-3b6bd907f803"
      },
      "source": [
        "import numpy as np\r\n",
        "x=[1,2,3,4]\r\n",
        "y=[2,5,6.5,7]\r\n",
        "xm=0\r\n",
        "xi=[]\r\n",
        "yi=[]\r\n",
        "num=[]\r\n",
        "deno=[]\r\n",
        "ym=0\r\n",
        "s1=0\r\n",
        "s2=0\r\n",
        "\r\n",
        "for i in x:\r\n",
        "  xm=xm+i\r\n",
        "xm=xm/4\r\n",
        "for i in y:\r\n",
        "  ym=ym+i\r\n",
        "ym=ym/4\r\n",
        "\r\n",
        "for i in x:\r\n",
        "  xi.append(i-xm)\r\n",
        "for i in y:\r\n",
        "  yi.append(i-ym)\r\n",
        "print(xi,yi)\r\n",
        "\r\n",
        "for i in range(0,4):\r\n",
        "  num.append(xi[i]*yi[i])\r\n",
        "\r\n",
        "for i in x:\r\n",
        "  deno.append(i*i)\r\n",
        "print(num)\r\n",
        "for i in num:\r\n",
        "  s1=s1+i\r\n",
        "print(s1)\r\n",
        "\r\n",
        "print(deno)\r\n",
        "for i in deno:\r\n",
        "  s2=s2+i\r\n",
        "print(s2)\r\n",
        "\r\n",
        "\r\n",
        "m=s2/s1\r\n",
        "print(m)"
      ],
      "execution_count": null,
      "outputs": [
        {
          "output_type": "stream",
          "text": [
            "[-1.5, -0.5, 0.5, 1.5] [-3.125, -0.125, 1.375, 1.875]\n",
            "[4.6875, 0.0625, 0.6875, 2.8125]\n",
            "8.25\n",
            "[1, 4, 9, 16]\n",
            "30\n",
            "3.6363636363636362\n"
          ],
          "name": "stdout"
        }
      ]
    },
    {
      "cell_type": "code",
      "metadata": {
        "id": "8fKKbBp19hY2"
      },
      "source": [
        "from sklearn.linear_model import LinearRegression"
      ],
      "execution_count": null,
      "outputs": []
    },
    {
      "cell_type": "code",
      "metadata": {
        "id": "InUaRrEc-vu9",
        "colab": {
          "base_uri": "https://localhost:8080/"
        },
        "outputId": "e7364711-d481-4663-c76a-f041033f2000"
      },
      "source": [
        "line_model=LinearRegression()\r\n",
        "x=np.array([1,2,3,4])\r\n",
        "y=np.array([2,5,6.5,7])\r\n",
        "x=x.reshape(-1,1)\r\n",
        "y=y.reshape(-1,1)\r\n",
        "\r\n",
        "h=line_model.fit(x,y)\r\n",
        "\r\n",
        "print(h.coef_)\r\n",
        "print(h.intercept_)\r\n"
      ],
      "execution_count": null,
      "outputs": [
        {
          "output_type": "stream",
          "text": [
            "[[1.65]]\n",
            "[1.]\n"
          ],
          "name": "stdout"
        }
      ]
    },
    {
      "cell_type": "code",
      "metadata": {
        "id": "X9KRLWePFqGx"
      },
      "source": [
        ""
      ],
      "execution_count": null,
      "outputs": []
    }
  ]
}