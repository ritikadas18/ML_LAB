{
  "nbformat": 4,
  "nbformat_minor": 0,
  "metadata": {
    "colab": {
      "name": "lab.ipynb",
      "provenance": [],
      "include_colab_link": true
    },
    "kernelspec": {
      "name": "python3",
      "display_name": "Python 3"
    }
  },
  "cells": [
    {
      "cell_type": "markdown",
      "metadata": {
        "id": "view-in-github",
        "colab_type": "text"
      },
      "source": [
        "<a href=\"https://colab.research.google.com/github/ritikadas18/ML_LAB/blob/main/lab.ipynb\" target=\"_parent\"><img src=\"https://colab.research.google.com/assets/colab-badge.svg\" alt=\"Open In Colab\"/></a>"
      ]
    },
    {
      "cell_type": "code",
      "metadata": {
        "id": "WL7oyhPtasvD",
        "colab": {
          "base_uri": "https://localhost:8080/"
        },
        "outputId": "7b68b1f2-ff38-438f-d61a-a82992f5e5f1"
      },
      "source": [
        "!git clone https://github.com/ritikadas18/ML_LAB.git"
      ],
      "execution_count": null,
      "outputs": [
        {
          "output_type": "stream",
          "text": [
            "Cloning into 'ML_LAB'...\n",
            "remote: Enumerating objects: 3, done.\u001b[K\n",
            "remote: Counting objects: 100% (3/3), done.\u001b[K\n",
            "remote: Total 3 (delta 0), reused 0 (delta 0), pack-reused 0\u001b[K\n",
            "Unpacking objects: 100% (3/3), done.\n"
          ],
          "name": "stdout"
        }
      ]
    },
    {
      "cell_type": "code",
      "metadata": {
        "colab": {
          "base_uri": "https://localhost:8080/"
        },
        "id": "eyUHv2j0BOG9",
        "outputId": "c95e60af-3692-4e47-fbc6-3b6bd907f803"
      },
      "source": [
        "import numpy as np\r\n",
        "x=[1,2,3,4]\r\n",
        "y=[2,5,6.5,7]\r\n",
        "xm=0\r\n",
        "xi=[]\r\n",
        "yi=[]\r\n",
        "num=[]\r\n",
        "deno=[]\r\n",
        "ym=0\r\n",
        "s1=0\r\n",
        "s2=0\r\n",
        "\r\n",
        "for i in x:\r\n",
        "  xm=xm+i\r\n",
        "xm=xm/4\r\n",
        "for i in y:\r\n",
        "  ym=ym+i\r\n",
        "ym=ym/4\r\n",
        "\r\n",
        "for i in x:\r\n",
        "  xi.append(i-xm)\r\n",
        "for i in y:\r\n",
        "  yi.append(i-ym)\r\n",
        "print(xi,yi)\r\n",
        "\r\n",
        "for i in range(0,4):\r\n",
        "  num.append(xi[i]*yi[i])\r\n",
        "\r\n",
        "for i in x:\r\n",
        "  deno.append(i*i)\r\n",
        "print(num)\r\n",
        "for i in num:\r\n",
        "  s1=s1+i\r\n",
        "print(s1)\r\n",
        "\r\n",
        "print(deno)\r\n",
        "for i in deno:\r\n",
        "  s2=s2+i\r\n",
        "print(s2)\r\n",
        "\r\n",
        "\r\n",
        "m=s2/s1\r\n",
        "print(m)"
      ],
      "execution_count": null,
      "outputs": [
        {
          "output_type": "stream",
          "text": [
            "[-1.5, -0.5, 0.5, 1.5] [-3.125, -0.125, 1.375, 1.875]\n",
            "[4.6875, 0.0625, 0.6875, 2.8125]\n",
            "8.25\n",
            "[1, 4, 9, 16]\n",
            "30\n",
            "3.6363636363636362\n"
          ],
          "name": "stdout"
        }
      ]
    },
    {
      "cell_type": "code",
      "metadata": {
        "id": "8fKKbBp19hY2"
      },
      "source": [
        "from sklearn.linear_model import LinearRegression"
      ],
      "execution_count": null,
      "outputs": []
    },
    {
      "cell_type": "code",
      "metadata": {
        "id": "InUaRrEc-vu9",
        "colab": {
          "base_uri": "https://localhost:8080/"
        },
        "outputId": "e7364711-d481-4663-c76a-f041033f2000"
      },
      "source": [
        "line_model=LinearRegression()\r\n",
        "x=np.array([1,2,3,4])\r\n",
        "y=np.array([2,5,6.5,7])\r\n",
        "x=x.reshape(-1,1)\r\n",
        "y=y.reshape(-1,1)\r\n",
        "\r\n",
        "h=line_model.fit(x,y)\r\n",
        "\r\n",
        "print(h.coef_)\r\n",
        "print(h.intercept_)\r\n"
      ],
      "execution_count": null,
      "outputs": [
        {
          "output_type": "stream",
          "text": [
            "[[1.65]]\n",
            "[1.]\n"
          ],
          "name": "stdout"
        }
      ]
    },
    {
      "cell_type": "code",
      "metadata": {
        "id": "X9KRLWePFqGx"
      },
      "source": [
        "import numpy as np\r\n",
        "data = np.loadtxt(\"data.csv\",delimiter=\",\")\r\n",
        "data.shape\r\n",
        "type(data)\r\n",
        "def step_gradient(points, learning_rate, m , c):\r\n",
        "  m_slope = 0\r\n",
        "  c_slope = 0\r\n",
        "  M = len(points)\r\n",
        "  for i in range(M):\r\n",
        "    x = points[i, 0]\r\n",
        "    y = points[i, 1]\r\n",
        "    m_slope += (-2/M)* (y - m * x - c)*x\r\n",
        "    c_slope += (-2/M)* (y - m * x - c)\r\n",
        "    new_m = m - learning_rate*m_slope\r\n",
        "    new_c = c - learning_rate*c_slope\r\n",
        "  return new_m, new_c\r\n",
        "  "
      ],
      "execution_count": 19,
      "outputs": []
    },
    {
      "cell_type": "code",
      "metadata": {
        "id": "hIvt4Nh_Tntt"
      },
      "source": [
        "def gd(points, learning_rate, num_iterations):\r\n",
        "  m = 0\r\n",
        "  c = 0\r\n",
        "  for i in range(num_iterations):\r\n",
        "    m, c = step_gradient(points, learning_rate, m , c)\r\n",
        "    print(i, \" Cost: \", cost(points, m, c))\r\n",
        "  return m, c"
      ],
      "execution_count": 21,
      "outputs": []
    },
    {
      "cell_type": "code",
      "metadata": {
        "id": "rWUtEZwRT6w1"
      },
      "source": [
        "def cost(points, m, c):\r\n",
        "  total_cost = 0\r\n",
        "  M = len(points)\r\n",
        "  for i in range(M):\r\n",
        "    x = points[i, 0]\r\n",
        "    y = points[i, 1]\r\n",
        "    total_cost += (1/M)*((y - m*x - c)**2)\r\n",
        "  return total_cost"
      ],
      "execution_count": 22,
      "outputs": []
    },
    {
      "cell_type": "code",
      "metadata": {
        "id": "XoDQwax_Unxw",
        "outputId": "cb838bae-aac8-437b-eeba-0126161c7821",
        "colab": {
          "base_uri": "https://localhost:8080/",
          "height": 128
        }
      },
      "source": [
        "def run():\r\n",
        "  data = np.loadtxt(\"data.csv\", delimiter=\",\")\r\n",
        "  learning_rate = 0.0001\r\n",
        "  num_iterations = 100\r\n",
        "  m, c = gd(data, learning_rate, num_iterations)\r\n",
        "  print(m, c)"
      ],
      "execution_count": 23,
      "outputs": [
        {
          "output_type": "error",
          "ename": "SyntaxError",
          "evalue": "ignored",
          "traceback": [
            "\u001b[0;36m  File \u001b[0;32m\"<ipython-input-23-699a52a3b229>\"\u001b[0;36m, line \u001b[0;32m2\u001b[0m\n\u001b[0;31m    data = np.loadtxt(\\\"data.csv\\\", delimiter=\\\",\\\")\u001b[0m\n\u001b[0m                                                    ^\u001b[0m\n\u001b[0;31mSyntaxError\u001b[0m\u001b[0;31m:\u001b[0m unexpected character after line continuation character\n"
          ]
        }
      ]
    },
    {
      "cell_type": "code",
      "metadata": {
        "id": "0kg2ZspcU5d2"
      },
      "source": [
        "run()"
      ],
      "execution_count": null,
      "outputs": []
    },
    {
      "cell_type": "code",
      "metadata": {
        "id": "K_snk2gPVBy8",
        "outputId": "d6cfcd6d-1aab-475d-86e1-58e904823e15",
        "colab": {
          "resources": {
            "http://localhost:8080/nbextensions/google.colab/files.js": {
              "data": "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",
              "ok": true,
              "headers": [
                [
                  "content-type",
                  "application/javascript"
                ]
              ],
              "status": 200,
              "status_text": ""
            }
          },
          "base_uri": "https://localhost:8080/",
          "height": 110
        }
      },
      "source": [
        "from google.colab import files\r\n",
        "files.upload()\r\n"
      ],
      "execution_count": 10,
      "outputs": [
        {
          "output_type": "display_data",
          "data": {
            "text/html": [
              "\n",
              "     <input type=\"file\" id=\"files-c011bded-f2ac-4d9e-894a-687a074fcd24\" name=\"files[]\" multiple disabled\n",
              "        style=\"border:none\" />\n",
              "     <output id=\"result-c011bded-f2ac-4d9e-894a-687a074fcd24\">\n",
              "      Upload widget is only available when the cell has been executed in the\n",
              "      current browser session. Please rerun this cell to enable.\n",
              "      </output>\n",
              "      <script src=\"/nbextensions/google.colab/files.js\"></script> "
            ],
            "text/plain": [
              "<IPython.core.display.HTML object>"
            ]
          },
          "metadata": {
            "tags": []
          }
        },
        {
          "output_type": "stream",
          "text": [
            "Saving data.csv to data.csv\n"
          ],
          "name": "stdout"
        },
        {
          "output_type": "execute_result",
          "data": {
            "text/plain": [
              "{'data.csv': b'32.502345269453031,31.70700584656992\\n53.426804033275019,68.77759598163891\\n61.530358025636438,62.562382297945803\\n47.475639634786098,71.546632233567777\\n59.813207869512318,87.230925133687393\\n55.142188413943821,78.211518270799232\\n52.211796692214001,79.64197304980874\\n39.299566694317065,59.171489321869508\\n48.10504169176825,75.331242297063056\\n52.550014442733818,71.300879886850353\\n45.419730144973755,55.165677145959123\\n54.351634881228918,82.478846757497919\\n44.164049496773352,62.008923245725825\\n58.16847071685779,75.392870425994957\\n56.727208057096611,81.43619215887864\\n48.955888566093719,60.723602440673965\\n44.687196231480904,82.892503731453715\\n60.297326851333466,97.379896862166078\\n45.618643772955828,48.847153317355072\\n38.816817537445637,56.877213186268506\\n66.189816606752601,83.878564664602763\\n65.41605174513407,118.59121730252249\\n47.48120860786787,57.251819462268969\\n41.57564261748702,51.391744079832307\\n51.84518690563943,75.380651665312357\\n59.370822011089523,74.765564032151374\\n57.31000343834809,95.455052922574737\\n63.615561251453308,95.229366017555307\\n46.737619407976972,79.052406169565586\\n50.556760148547767,83.432071421323712\\n52.223996085553047,63.358790317497878\\n35.567830047746632,41.412885303700563\\n42.436476944055642,76.617341280074044\\n58.16454011019286,96.769566426108199\\n57.504447615341789,74.084130116602523\\n45.440530725319981,66.588144414228594\\n61.89622268029126,77.768482417793024\\n33.093831736163963,50.719588912312084\\n36.436009511386871,62.124570818071781\\n37.675654860850742,60.810246649902211\\n44.555608383275356,52.682983366387781\\n43.318282631865721,58.569824717692867\\n50.073145632289034,82.905981485070512\\n43.870612645218372,61.424709804339123\\n62.997480747553091,115.24415280079529\\n32.669043763467187,45.570588823376085\\n40.166899008703702,54.084054796223612\\n53.575077531673656,87.994452758110413\\n33.864214971778239,52.725494375900425\\n64.707138666121296,93.576118692658241\\n38.119824026822805,80.166275447370964\\n44.502538064645101,65.101711570560326\\n40.599538384552318,65.562301260400375\\n41.720676356341293,65.280886920822823\\n51.088634678336796,73.434641546324301\\n55.078095904923202,71.13972785861894\\n41.377726534895203,79.102829683549857\\n62.494697427269791,86.520538440347153\\n49.203887540826003,84.742697807826218\\n41.102685187349664,59.358850248624933\\n41.182016105169822,61.684037524833627\\n50.186389494880601,69.847604158249183\\n52.378446219236217,86.098291205774103\\n50.135485486286122,59.108839267699643\\n33.644706006191782,69.89968164362763\\n39.557901222906828,44.862490711164398\\n56.130388816875467,85.498067778840223\\n57.362052133238237,95.536686846467219\\n60.269214393997906,70.251934419771587\\n35.678093889410732,52.721734964774988\\n31.588116998132829,50.392670135079896\\n53.66093226167304,63.642398775657753\\n46.682228649471917,72.247251068662365\\n43.107820219102464,57.812512976181402\\n70.34607561504933,104.25710158543822\\n44.492855880854073,86.642020318822006\\n57.50453330326841,91.486778000110135\\n36.930076609191808,55.231660886212836\\n55.805733357942742,79.550436678507609\\n38.954769073377065,44.847124242467601\\n56.901214702247074,80.207523139682763\\n56.868900661384046,83.14274979204346\\n34.33312470421609,55.723489260543914\\n59.04974121466681,77.634182511677864\\n57.788223993230673,99.051414841748269\\n54.282328705967409,79.120646274680027\\n51.088719898979143,69.588897851118475\\n50.282836348230731,69.510503311494389\\n44.211741752090113,73.687564318317285\\n38.005488008060688,61.366904537240131\\n32.940479942618296,67.170655768995118\\n53.691639571070056,85.668203145001542\\n68.76573426962166,114.85387123391394\\n46.230966498310252,90.123572069967423\\n68.319360818255362,97.919821035242848\\n50.030174340312143,81.536990783015028\\n49.239765342753763,72.111832469615663\\n50.039575939875988,85.232007342325673\\n48.149858891028863,66.224957888054632\\n25.128484647772304,53.454394214850524\\n\\n'}"
            ]
          },
          "metadata": {
            "tags": []
          },
          "execution_count": 10
        }
      ]
    },
    {
      "cell_type": "code",
      "metadata": {
        "id": "W0Pszw4ka5DR",
        "outputId": "77a6764e-bc0f-40df-b874-9c4b3d2ff43a",
        "colab": {
          "base_uri": "https://localhost:8080/",
          "height": 298
        }
      },
      "source": [
        "import numpy as np\r\n",
        "import matplotlib.pyplot as plt\r\n",
        "\r\n",
        "def delm(x,y,m,c):\r\n",
        "    n =len(x)\r\n",
        "    sum = 0\r\n",
        "    for i in range(len(x)):\r\n",
        "        sum = sum + x[i]*(y[i] - (m*x[i] + c))\r\n",
        "    return((-2/n)*(sum))\r\n",
        "\r\n",
        "def delc(x,y,m,c):\r\n",
        "    n =len(x)\r\n",
        "    sum = 0\r\n",
        "    for i in range(len(x)):\r\n",
        "        sum = sum + (y[i] - (m*x[i] + c))\r\n",
        "    return((-2/n)*(sum))\r\n",
        "\r\n",
        "def cost(x,y,m,c):\r\n",
        "    sum = 0\r\n",
        "    for i in range(len(x)):\r\n",
        "        sum = sum + (y[i] - (m*x[i] + c))\r\n",
        "    return((1/len(x))*sum)\r\n",
        "\r\n",
        "def descent_step(x,y,m,c,l):\r\n",
        "    \r\n",
        "    m = m - l*delm(x,y,m,c)\r\n",
        "    c = c - l*delc(x,y,m,c)\r\n",
        "\r\n",
        "    cst = cost(x,y,m,c)\r\n",
        "\r\n",
        "    return(m,c,cst)\r\n",
        "\r\n",
        "x = [1,2,3,4,5,6,7,8,9,10,11,12,13,14]\r\n",
        "y = [7,8,9,7,6,54,87,23,987,548,689,877,1025,1154]\r\n",
        "print(len(x))\r\n",
        "print(len(y))\r\n",
        "\r\n",
        "m,c = 0,0\r\n",
        "m_list = [m]\r\n",
        "c_list = [c]\r\n",
        "\r\n",
        "cst = cost(x,y,m,c)\r\n",
        "cst_list = [cst]\r\n",
        "new_cst = cst\r\n",
        "l = 0.0001\r\n",
        "while(cst >= new_cst):\r\n",
        "    cst = new_cst\r\n",
        "    m,c,new_cst = descent_step(x,y,m,c,l)\r\n",
        "    m_list.append(m)\r\n",
        "    c_list.append(c)\r\n",
        "    cst_list.append(new_cst)\r\n",
        "\r\n",
        "\r\n",
        "\r\n",
        "plt.plot(cst_list)\r\n",
        "plt.show()"
      ],
      "execution_count": 24,
      "outputs": [
        {
          "output_type": "stream",
          "text": [
            "14\n",
            "14\n"
          ],
          "name": "stdout"
        },
        {
          "output_type": "display_data",
          "data": {
            "image/png": "[encoded data removed]",
            "text/plain": [
              "<Figure size 432x288 with 1 Axes>"
            ]
          },
          "metadata": {
            "tags": [],
            "needs_background": "light"
          }
        }
      ]
    }
  ]
}