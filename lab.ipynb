{
  "nbformat": 4,
  "nbformat_minor": 0,
  "metadata": {
    "colab": {
      "name": "lab.ipynb",
      "provenance": [],
      "include_colab_link": true
    },
    "kernelspec": {
      "name": "python3",
      "display_name": "Python 3"
    }
  },
  "cells": [
    {
      "cell_type": "markdown",
      "metadata": {
        "id": "view-in-github",
        "colab_type": "text"
      },
      "source": [
        "<a href=\"https://colab.research.google.com/github/ritikadas18/ML_LAB/blob/main/lab.ipynb\" target=\"_parent\"><img src=\"https://colab.research.google.com/assets/colab-badge.svg\" alt=\"Open In Colab\"/></a>"
      ]
    },
    {
      "cell_type": "code",
      "metadata": {
        "id": "WL7oyhPtasvD",
        "colab": {
          "base_uri": "https://localhost:8080/"
        },
        "outputId": "7b68b1f2-ff38-438f-d61a-a82992f5e5f1"
      },
      "source": [
        "!git clone https://github.com/ritikadas18/ML_LAB.git"
      ],
      "execution_count": null,
      "outputs": [
        {
          "output_type": "stream",
          "text": [
            "Cloning into 'ML_LAB'...\n",
            "remote: Enumerating objects: 3, done.\u001b[K\n",
            "remote: Counting objects: 100% (3/3), done.\u001b[K\n",
            "remote: Total 3 (delta 0), reused 0 (delta 0), pack-reused 0\u001b[K\n",
            "Unpacking objects: 100% (3/3), done.\n"
          ],
          "name": "stdout"
        }
      ]
    },
    {
      "cell_type": "code",
      "metadata": {
        "colab": {
          "base_uri": "https://localhost:8080/"
        },
        "id": "eyUHv2j0BOG9",
        "outputId": "c95e60af-3692-4e47-fbc6-3b6bd907f803"
      },
      "source": [
        "import numpy as np\r\n",
        "x=[1,2,3,4]\r\n",
        "y=[2,5,6.5,7]\r\n",
        "xm=0\r\n",
        "xi=[]\r\n",
        "yi=[]\r\n",
        "num=[]\r\n",
        "deno=[]\r\n",
        "ym=0\r\n",
        "s1=0\r\n",
        "s2=0\r\n",
        "\r\n",
        "for i in x:\r\n",
        "  xm=xm+i\r\n",
        "xm=xm/4\r\n",
        "for i in y:\r\n",
        "  ym=ym+i\r\n",
        "ym=ym/4\r\n",
        "\r\n",
        "for i in x:\r\n",
        "  xi.append(i-xm)\r\n",
        "for i in y:\r\n",
        "  yi.append(i-ym)\r\n",
        "print(xi,yi)\r\n",
        "\r\n",
        "for i in range(0,4):\r\n",
        "  num.append(xi[i]*yi[i])\r\n",
        "\r\n",
        "for i in x:\r\n",
        "  deno.append(i*i)\r\n",
        "print(num)\r\n",
        "for i in num:\r\n",
        "  s1=s1+i\r\n",
        "print(s1)\r\n",
        "\r\n",
        "print(deno)\r\n",
        "for i in deno:\r\n",
        "  s2=s2+i\r\n",
        "print(s2)\r\n",
        "\r\n",
        "\r\n",
        "m=s2/s1\r\n",
        "print(m)"
      ],
      "execution_count": null,
      "outputs": [
        {
          "output_type": "stream",
          "text": [
            "[-1.5, -0.5, 0.5, 1.5] [-3.125, -0.125, 1.375, 1.875]\n",
            "[4.6875, 0.0625, 0.6875, 2.8125]\n",
            "8.25\n",
            "[1, 4, 9, 16]\n",
            "30\n",
            "3.6363636363636362\n"
          ],
          "name": "stdout"
        }
      ]
    },
    {
      "cell_type": "code",
      "metadata": {
        "id": "8fKKbBp19hY2"
      },
      "source": [
        "from sklearn.linear_model import LinearRegression"
      ],
      "execution_count": null,
      "outputs": []
    },
    {
      "cell_type": "code",
      "metadata": {
        "id": "InUaRrEc-vu9",
        "colab": {
          "base_uri": "https://localhost:8080/"
        },
        "outputId": "e7364711-d481-4663-c76a-f041033f2000"
      },
      "source": [
        "line_model=LinearRegression()\r\n",
        "x=np.array([1,2,3,4])\r\n",
        "y=np.array([2,5,6.5,7])\r\n",
        "x=x.reshape(-1,1)\r\n",
        "y=y.reshape(-1,1)\r\n",
        "\r\n",
        "h=line_model.fit(x,y)\r\n",
        "\r\n",
        "print(h.coef_)\r\n",
        "print(h.intercept_)\r\n"
      ],
      "execution_count": null,
      "outputs": [
        {
          "output_type": "stream",
          "text": [
            "[[1.65]]\n",
            "[1.]\n"
          ],
          "name": "stdout"
        }
      ]
    },
    {
      "cell_type": "code",
      "metadata": {
        "id": "X9KRLWePFqGx"
      },
      "source": [
        "import numpy as np\r\n",
        "data = np.loadtxt(\"data.csv\",delimiter=\",\")\r\n",
        "data.shape\r\n",
        "type(data)\r\n",
        "def step_gradient(points, learning_rate, m , c):\r\n",
        "  m_slope = 0\r\n",
        "  c_slope = 0\r\n",
        "  M = len(points)\r\n",
        "  for i in range(M):\r\n",
        "    x = points[i, 0]\r\n",
        "    y = points[i, 1]\r\n",
        "    m_slope += (-2/M)* (y - m * x - c)*x\r\n",
        "    c_slope += (-2/M)* (y - m * x - c)\r\n",
        "    new_m = m - learning_rate*m_slope\r\n",
        "    new_c = c - learning_rate*c_slope\r\n",
        "  return new_m, new_c\r\n",
        "  "
      ],
      "execution_count": null,
      "outputs": []
    },
    {
      "cell_type": "code",
      "metadata": {
        "id": "hIvt4Nh_Tntt"
      },
      "source": [
        "def gd(points, learning_rate, num_iterations):\r\n",
        "  m = 0\r\n",
        "  c = 0\r\n",
        "  for i in range(num_iterations):\r\n",
        "    m, c = step_gradient(points, learning_rate, m , c)\r\n",
        "    print(i, \" Cost: \", cost(points, m, c))\r\n",
        "  return m, c"
      ],
      "execution_count": null,
      "outputs": []
    },
    {
      "cell_type": "code",
      "metadata": {
        "id": "rWUtEZwRT6w1"
      },
      "source": [
        "def cost(points, m, c):\r\n",
        "  total_cost = 0\r\n",
        "  M = len(points)\r\n",
        "  for i in range(M):\r\n",
        "    x = points[i, 0]\r\n",
        "    y = points[i, 1]\r\n",
        "    total_cost += (1/M)*((y - m*x - c)**2)\r\n",
        "  return total_cost"
      ],
      "execution_count": null,
      "outputs": []
    },
    {
      "cell_type": "code",
      "metadata": {
        "id": "XoDQwax_Unxw",
        "colab": {
          "base_uri": "https://localhost:8080/",
          "height": 128
        },
        "outputId": "cb838bae-aac8-437b-eeba-0126161c7821"
      },
      "source": [
        "def run():\r\n",
        "  data = np.loadtxt(\"data.csv\", delimiter=\",\")\r\n",
        "  learning_rate = 0.0001\r\n",
        "  num_iterations = 100\r\n",
        "  m, c = gd(data, learning_rate, num_iterations)\r\n",
        "  print(m, c)"
      ],
      "execution_count": null,
      "outputs": [
        {
          "output_type": "error",
          "ename": "SyntaxError",
          "evalue": "ignored",
          "traceback": [
            "\u001b[0;36m  File \u001b[0;32m\"<ipython-input-23-699a52a3b229>\"\u001b[0;36m, line \u001b[0;32m2\u001b[0m\n\u001b[0;31m    data = np.loadtxt(\\\"data.csv\\\", delimiter=\\\",\\\")\u001b[0m\n\u001b[0m                                                    ^\u001b[0m\n\u001b[0;31mSyntaxError\u001b[0m\u001b[0;31m:\u001b[0m unexpected character after line continuation character\n"
          ]
        }
      ]
    },
    {
      "cell_type": "code",
      "metadata": {
        "id": "0kg2ZspcU5d2"
      },
      "source": [
        "run()"
      ],
      "execution_count": null,
      "outputs": []
    },
    {
      "cell_type": "code",
      "metadata": {
        "id": "K_snk2gPVBy8",
        "colab": {
          "resources": {
            "http://localhost:8080/nbextensions/google.colab/files.js": {
              "data": "Ly8gQ29weXJpZ2h0IDIwMTcgR29vZ2xlIExMQwovLwovLyBMaWNlbnNlZCB1bmRlciB0aGUgQXBhY2hlIExpY2Vuc2UsIFZlcnNpb24gMi4wICh0aGUgIkxpY2Vuc2UiKTsKLy8geW91IG1heSBub3QgdXNlIHRoaXMgZmlsZSBleGNlcHQgaW4gY29tcGxpYW5jZSB3aXRoIHRoZSBMaWNlbnNlLgovLyBZb3UgbWF5IG9idGFpbiBhIGNvcHkgb2YgdGhlIExpY2Vuc2UgYXQKLy8KLy8gICAgICBodHRwOi8vd3d3LmFwYWNoZS5vcmcvbGljZW5zZXMvTElDRU5TRS0yLjAKLy8KLy8gVW5sZXNzIHJlcXVpcmVkIGJ5IGFwcGxpY2FibGUgbGF3IG9yIGFncmVlZCB0byBpbiB3cml0aW5nLCBzb2Z0d2FyZQovLyBkaXN0cmlidXRlZCB1bmRlciB0aGUgTGljZW5zZSBpcyBkaXN0cmlidXRlZCBvbiBhbiAiQVMgSVMiIEJBU0lTLAovLyBXSVRIT1VUIFdBUlJBTlRJRVMgT1IgQ09ORElUSU9OUyBPRiBBTlkgS0lORCwgZWl0aGVyIGV4cHJlc3Mgb3IgaW1wbGllZC4KLy8gU2VlIHRoZSBMaWNlbnNlIGZvciB0aGUgc3BlY2lmaWMgbGFuZ3VhZ2UgZ292ZXJuaW5nIHBlcm1pc3Npb25zIGFuZAovLyBsaW1pdGF0aW9ucyB1bmRlciB0aGUgTGljZW5zZS4KCi8qKgogKiBAZmlsZW92ZXJ2aWV3IEhlbHBlcnMgZm9yIGdvb2dsZS5jb2xhYiBQeXRob24gbW9kdWxlLgogKi8KKGZ1bmN0aW9uKHNjb3BlKSB7CmZ1bmN0aW9uIHNwYW4odGV4dCwgc3R5bGVBdHRyaWJ1dGVzID0ge30pIHsKICBjb25zdCBlbGVtZW50ID0gZG9jdW1lbnQuY3JlYXRlRWxlbWVudCgnc3BhbicpOwogIGVsZW1lbnQudGV4dENvbnRlbnQgPSB0ZXh0OwogIGZvciAoY29uc3Qga2V5IG9mIE9iamVjdC5rZXlzKHN0eWxlQXR0cmlidXRlcykpIHsKICAgIGVsZW1lbnQuc3R5bGVba2V5XSA9IHN0eWxlQXR0cmlidXRlc1trZXldOwogIH0KICByZXR1cm4gZWxlbWVudDsKfQoKLy8gTWF4IG51bWJlciBvZiBieXRlcyB3aGljaCB3aWxsIGJlIHVwbG9hZGVkIGF0IGEgdGltZS4KY29uc3QgTUFYX1BBWUxPQURfU0laRSA9IDEwMCAqIDEwMjQ7CgpmdW5jdGlvbiBfdXBsb2FkRmlsZXMoaW5wdXRJZCwgb3V0cHV0SWQpIHsKICBjb25zdCBzdGVwcyA9IHVwbG9hZEZpbGVzU3RlcChpbnB1dElkLCBvdXRwdXRJZCk7CiAgY29uc3Qgb3V0cHV0RWxlbWVudCA9IGRvY3VtZW50LmdldEVsZW1lbnRCeUlkKG91dHB1dElkKTsKICAvLyBDYWNoZSBzdGVwcyBvbiB0aGUgb3V0cHV0RWxlbWVudCB0byBtYWtlIGl0IGF2YWlsYWJsZSBmb3IgdGhlIG5leHQgY2FsbAogIC8vIHRvIHVwbG9hZEZpbGVzQ29udGludWUgZnJvbSBQeXRob24uCiAgb3V0cHV0RWxlbWVudC5zdGVwcyA9IHN0ZXBzOwoKICByZXR1cm4gX3VwbG9hZEZpbGVzQ29udGludWUob3V0cHV0SWQpOwp9CgovLyBUaGlzIGlzIHJvdWdobHkgYW4gYXN5bmMgZ2VuZXJhdG9yIChub3Qgc3VwcG9ydGVkIGluIHRoZSBicm93c2VyIHlldCksCi8vIHdoZXJlIHRoZXJlIGFyZSBtdWx0aXBsZSBhc3luY2hyb25vdXMgc3RlcHMgYW5kIHRoZSBQeXRob24gc2lkZSBpcyBnb2luZwovLyB0byBwb2xsIGZvciBjb21wbGV0aW9uIG9mIGVhY2ggc3RlcC4KLy8gVGhpcyB1c2VzIGEgUHJvbWlzZSB0byBibG9jayB0aGUgcHl0aG9uIHNpZGUgb24gY29tcGxldGlvbiBvZiBlYWNoIHN0ZXAsCi8vIHRoZW4gcGFzc2VzIHRoZSByZXN1bHQgb2YgdGhlIHByZXZpb3VzIHN0ZXAgYXMgdGhlIGlucHV0IHRvIHRoZSBuZXh0IHN0ZXAuCmZ1bmN0aW9uIF91cGxvYWRGaWxlc0NvbnRpbnVlKG91dHB1dElkKSB7CiAgY29uc3Qgb3V0cHV0RWxlbWVudCA9IGRvY3VtZW50LmdldEVsZW1lbnRCeUlkKG91dHB1dElkKTsKICBjb25zdCBzdGVwcyA9IG91dHB1dEVsZW1lbnQuc3RlcHM7CgogIGNvbnN0IG5leHQgPSBzdGVwcy5uZXh0KG91dHB1dEVsZW1lbnQubGFzdFByb21pc2VWYWx1ZSk7CiAgcmV0dXJuIFByb21pc2UucmVzb2x2ZShuZXh0LnZhbHVlLnByb21pc2UpLnRoZW4oKHZhbHVlKSA9PiB7CiAgICAvLyBDYWNoZSB0aGUgbGFzdCBwcm9taXNlIHZhbHVlIHRvIG1ha2UgaXQgYXZhaWxhYmxlIHRvIHRoZSBuZXh0CiAgICAvLyBzdGVwIG9mIHRoZSBnZW5lcmF0b3IuCiAgICBvdXRwdXRFbGVtZW50Lmxhc3RQcm9taXNlVmFsdWUgPSB2YWx1ZTsKICAgIHJldHVybiBuZXh0LnZhbHVlLnJlc3BvbnNlOwogIH0pOwp9CgovKioKICogR2VuZXJhdG9yIGZ1bmN0aW9uIHdoaWNoIGlzIGNhbGxlZCBiZXR3ZWVuIGVhY2ggYXN5bmMgc3RlcCBvZiB0aGUgdXBsb2FkCiAqIHByb2Nlc3MuCiAqIEBwYXJhbSB7c3RyaW5nfSBpbnB1dElkIEVsZW1lbnQgSUQgb2YgdGhlIGlucHV0IGZpbGUgcGlja2VyIGVsZW1lbnQuCiAqIEBwYXJhbSB7c3RyaW5nfSBvdXRwdXRJZCBFbGVtZW50IElEIG9mIHRoZSBvdXRwdXQgZGlzcGxheS4KICogQHJldHVybiB7IUl0ZXJhYmxlPCFPYmplY3Q+fSBJdGVyYWJsZSBvZiBuZXh0IHN0ZXBzLgogKi8KZnVuY3Rpb24qIHVwbG9hZEZpbGVzU3RlcChpbnB1dElkLCBvdXRwdXRJZCkgewogIGNvbnN0IGlucHV0RWxlbWVudCA9IGRvY3VtZW50LmdldEVsZW1lbnRCeUlkKGlucHV0SWQpOwogIGlucHV0RWxlbWVudC5kaXNhYmxlZCA9IGZhbHNlOwoKICBjb25zdCBvdXRwdXRFbGVtZW50ID0gZG9jdW1lbnQuZ2V0RWxlbWVudEJ5SWQob3V0cHV0SWQpOwogIG91dHB1dEVsZW1lbnQuaW5uZXJIVE1MID0gJyc7CgogIGNvbnN0IHBpY2tlZFByb21pc2UgPSBuZXcgUHJvbWlzZSgocmVzb2x2ZSkgPT4gewogICAgaW5wdXRFbGVtZW50LmFkZEV2ZW50TGlzdGVuZXIoJ2NoYW5nZScsIChlKSA9PiB7CiAgICAgIHJlc29sdmUoZS50YXJnZXQuZmlsZXMpOwogICAgfSk7CiAgfSk7CgogIGNvbnN0IGNhbmNlbCA9IGRvY3VtZW50LmNyZWF0ZUVsZW1lbnQoJ2J1dHRvbicpOwogIGlucHV0RWxlbWVudC5wYXJlbnRFbGVtZW50LmFwcGVuZENoaWxkKGNhbmNlbCk7CiAgY2FuY2VsLnRleHRDb250ZW50ID0gJ0NhbmNlbCB1cGxvYWQnOwogIGNvbnN0IGNhbmNlbFByb21pc2UgPSBuZXcgUHJvbWlzZSgocmVzb2x2ZSkgPT4gewogICAgY2FuY2VsLm9uY2xpY2sgPSAoKSA9PiB7CiAgICAgIHJlc29sdmUobnVsbCk7CiAgICB9OwogIH0pOwoKICAvLyBXYWl0IGZvciB0aGUgdXNlciB0byBwaWNrIHRoZSBmaWxlcy4KICBjb25zdCBmaWxlcyA9IHlpZWxkIHsKICAgIHByb21pc2U6IFByb21pc2UucmFjZShbcGlja2VkUHJvbWlzZSwgY2FuY2VsUHJvbWlzZV0pLAogICAgcmVzcG9uc2U6IHsKICAgICAgYWN0aW9uOiAnc3RhcnRpbmcnLAogICAgfQogIH07CgogIGNhbmNlbC5yZW1vdmUoKTsKCiAgLy8gRGlzYWJsZSB0aGUgaW5wdXQgZWxlbWVudCBzaW5jZSBmdXJ0aGVyIHBpY2tzIGFyZSBub3QgYWxsb3dlZC4KICBpbnB1dEVsZW1lbnQuZGlzYWJsZWQgPSB0cnVlOwoKICBpZiAoIWZpbGVzKSB7CiAgICByZXR1cm4gewogICAgICByZXNwb25zZTogewogICAgICAgIGFjdGlvbjogJ2NvbXBsZXRlJywKICAgICAgfQogICAgfTsKICB9CgogIGZvciAoY29uc3QgZmlsZSBvZiBmaWxlcykgewogICAgY29uc3QgbGkgPSBkb2N1bWVudC5jcmVhdGVFbGVtZW50KCdsaScpOwogICAgbGkuYXBwZW5kKHNwYW4oZmlsZS5uYW1lLCB7Zm9udFdlaWdodDogJ2JvbGQnfSkpOwogICAgbGkuYXBwZW5kKHNwYW4oCiAgICAgICAgYCgke2ZpbGUudHlwZSB8fCAnbi9hJ30pIC0gJHtmaWxlLnNpemV9IGJ5dGVzLCBgICsKICAgICAgICBgbGFzdCBtb2RpZmllZDogJHsKICAgICAgICAgICAgZmlsZS5sYXN0TW9kaWZpZWREYXRlID8gZmlsZS5sYXN0TW9kaWZpZWREYXRlLnRvTG9jYWxlRGF0ZVN0cmluZygpIDoKICAgICAgICAgICAgICAgICAgICAgICAgICAgICAgICAgICAgJ24vYSd9IC0gYCkpOwogICAgY29uc3QgcGVyY2VudCA9IHNwYW4oJzAlIGRvbmUnKTsKICAgIGxpLmFwcGVuZENoaWxkKHBlcmNlbnQpOwoKICAgIG91dHB1dEVsZW1lbnQuYXBwZW5kQ2hpbGQobGkpOwoKICAgIGNvbnN0IGZpbGVEYXRhUHJvbWlzZSA9IG5ldyBQcm9taXNlKChyZXNvbHZlKSA9PiB7CiAgICAgIGNvbnN0IHJlYWRlciA9IG5ldyBGaWxlUmVhZGVyKCk7CiAgICAgIHJlYWRlci5vbmxvYWQgPSAoZSkgPT4gewogICAgICAgIHJlc29sdmUoZS50YXJnZXQucmVzdWx0KTsKICAgICAgfTsKICAgICAgcmVhZGVyLnJlYWRBc0FycmF5QnVmZmVyKGZpbGUpOwogICAgfSk7CiAgICAvLyBXYWl0IGZvciB0aGUgZGF0YSB0byBiZSByZWFkeS4KICAgIGxldCBmaWxlRGF0YSA9IHlpZWxkIHsKICAgICAgcHJvbWlzZTogZmlsZURhdGFQcm9taXNlLAogICAgICByZXNwb25zZTogewogICAgICAgIGFjdGlvbjogJ2NvbnRpbnVlJywKICAgICAgfQogICAgfTsKCiAgICAvLyBVc2UgYSBjaHVua2VkIHNlbmRpbmcgdG8gYXZvaWQgbWVzc2FnZSBzaXplIGxpbWl0cy4gU2VlIGIvNjIxMTU2NjAuCiAgICBsZXQgcG9zaXRpb24gPSAwOwogICAgd2hpbGUgKHBvc2l0aW9uIDwgZmlsZURhdGEuYnl0ZUxlbmd0aCkgewogICAgICBjb25zdCBsZW5ndGggPSBNYXRoLm1pbihmaWxlRGF0YS5ieXRlTGVuZ3RoIC0gcG9zaXRpb24sIE1BWF9QQVlMT0FEX1NJWkUpOwogICAgICBjb25zdCBjaHVuayA9IG5ldyBVaW50OEFycmF5KGZpbGVEYXRhLCBwb3NpdGlvbiwgbGVuZ3RoKTsKICAgICAgcG9zaXRpb24gKz0gbGVuZ3RoOwoKICAgICAgY29uc3QgYmFzZTY0ID0gYnRvYShTdHJpbmcuZnJvbUNoYXJDb2RlLmFwcGx5KG51bGwsIGNodW5rKSk7CiAgICAgIHlpZWxkIHsKICAgICAgICByZXNwb25zZTogewogICAgICAgICAgYWN0aW9uOiAnYXBwZW5kJywKICAgICAgICAgIGZpbGU6IGZpbGUubmFtZSwKICAgICAgICAgIGRhdGE6IGJhc2U2NCwKICAgICAgICB9LAogICAgICB9OwogICAgICBwZXJjZW50LnRleHRDb250ZW50ID0KICAgICAgICAgIGAke01hdGgucm91bmQoKHBvc2l0aW9uIC8gZmlsZURhdGEuYnl0ZUxlbmd0aCkgKiAxMDApfSUgZG9uZWA7CiAgICB9CiAgfQoKICAvLyBBbGwgZG9uZS4KICB5aWVsZCB7CiAgICByZXNwb25zZTogewogICAgICBhY3Rpb246ICdjb21wbGV0ZScsCiAgICB9CiAgfTsKfQoKc2NvcGUuZ29vZ2xlID0gc2NvcGUuZ29vZ2xlIHx8IHt9OwpzY29wZS5nb29nbGUuY29sYWIgPSBzY29wZS5nb29nbGUuY29sYWIgfHwge307CnNjb3BlLmdvb2dsZS5jb2xhYi5fZmlsZXMgPSB7CiAgX3VwbG9hZEZpbGVzLAogIF91cGxvYWRGaWxlc0NvbnRpbnVlLAp9Owp9KShzZWxmKTsK",
              "ok": true,
              "headers": [
                [
                  "content-type",
                  "application/javascript"
                ]
              ],
              "status": 200,
              "status_text": ""
            }
          },
          "base_uri": "https://localhost:8080/",
          "height": 110
        },
        "outputId": "08501ba8-222b-4a1c-b922-beb676cf4e5e"
      },
      "source": [
        "from google.colab import files\r\n",
        "files.upload()\r\n"
      ],
      "execution_count": 43,
      "outputs": [
        {
          "output_type": "display_data",
          "data": {
            "text/html": [
              "\n",
              "     <input type=\"file\" id=\"files-8e90565f-9974-4951-bcb6-a3825a3626f1\" name=\"files[]\" multiple disabled\n",
              "        style=\"border:none\" />\n",
              "     <output id=\"result-8e90565f-9974-4951-bcb6-a3825a3626f1\">\n",
              "      Upload widget is only available when the cell has been executed in the\n",
              "      current browser session. Please rerun this cell to enable.\n",
              "      </output>\n",
              "      <script src=\"/nbextensions/google.colab/files.js\"></script> "
            ],
            "text/plain": [
              "<IPython.core.display.HTML object>"
            ]
          },
          "metadata": {
            "tags": []
          }
        },
        {
          "output_type": "stream",
          "text": [
            "Saving mllab1.csv to mllab1 (4).csv\n"
          ],
          "name": "stdout"
        },
        {
          "output_type": "execute_result",
          "data": {
            "text/plain": [
              "{'mllab1.csv': b'Gender,Age Range,Head Size(cm^3),Brain Weight(grams)\\n1,1,4512,1530\\n1,1,3738,1297\\n1,1,4261,1335\\n1,1,3777,1282\\n1,1,4177,1590\\n1,1,3585,1300\\n1,1,3785,1400\\n1,1,3559,1255\\n1,1,3613,1355\\n1,1,3982,1375\\n1,1,3443,1340\\n1,1,3993,1380\\n1,1,3640,1355\\n1,1,4208,1522\\n1,1,3832,1208\\n1,1,3876,1405\\n1,1,3497,1358\\n1,1,3466,1292\\n1,1,3095,1340\\n1,1,4424,1400\\n1,1,3878,1357\\n1,1,4046,1287\\n1,1,3804,1275\\n1,1,3710,1270\\n1,1,4747,1635\\n1,1,4423,1505\\n1,1,4036,1490\\n1,1,4022,1485\\n1,1,3454,1310\\n1,1,4175,1420\\n1,1,3787,1318\\n1,1,3796,1432\\n1,1,4103,1364\\n1,1,4161,1405\\n1,1,4158,1432\\n1,1,3814,1207\\n1,1,3527,1375\\n1,1,3748,1350\\n1,1,3334,1236\\n1,1,3492,1250\\n1,1,3962,1350\\n1,1,3505,1320\\n1,1,4315,1525\\n1,1,3804,1570\\n1,1,3863,1340\\n1,1,4034,1422\\n1,1,4308,1506\\n1,1,3165,1215\\n1,1,3641,1311\\n1,1,3644,1300\\n1,1,3891,1224\\n1,1,3793,1350\\n1,1,4270,1335\\n1,1,4063,1390\\n1,1,4012,1400\\n1,1,3458,1225\\n1,1,3890,1310\\n1,2,4166,1560\\n1,2,3935,1330\\n1,2,3669,1222\\n1,2,3866,1415\\n1,2,3393,1175\\n1,2,4442,1330\\n1,2,4253,1485\\n1,2,3727,1470\\n1,2,3329,1135\\n1,2,3415,1310\\n1,2,3372,1154\\n1,2,4430,1510\\n1,2,4381,1415\\n1,2,4008,1468\\n1,2,3858,1390\\n1,2,4121,1380\\n1,2,4057,1432\\n1,2,3824,1240\\n1,2,3394,1195\\n1,2,3558,1225\\n1,2,3362,1188\\n1,2,3930,1252\\n1,2,3835,1315\\n1,2,3830,1245\\n1,2,3856,1430\\n1,2,3249,1279\\n1,2,3577,1245\\n1,2,3933,1309\\n1,2,3850,1412\\n1,2,3309,1120\\n1,2,3406,1220\\n1,2,3506,1280\\n1,2,3907,1440\\n1,2,4160,1370\\n1,2,3318,1192\\n1,2,3662,1230\\n1,2,3899,1346\\n1,2,3700,1290\\n1,2,3779,1165\\n1,2,3473,1240\\n1,2,3490,1132\\n1,2,3654,1242\\n1,2,3478,1270\\n1,2,3495,1218\\n1,2,3834,1430\\n1,2,3876,1588\\n1,2,3661,1320\\n1,2,3618,1290\\n1,2,3648,1260\\n1,2,4032,1425\\n1,2,3399,1226\\n1,2,3916,1360\\n1,2,4430,1620\\n1,2,3695,1310\\n1,2,3524,1250\\n1,2,3571,1295\\n1,2,3594,1290\\n1,2,3383,1290\\n1,2,3499,1275\\n1,2,3589,1250\\n1,2,3900,1270\\n1,2,4114,1362\\n1,2,3937,1300\\n1,2,3399,1173\\n1,2,4200,1256\\n1,2,4488,1440\\n1,2,3614,1180\\n1,2,4051,1306\\n1,2,3782,1350\\n1,2,3391,1125\\n1,2,3124,1165\\n1,2,4053,1312\\n1,2,3582,1300\\n1,2,3666,1270\\n1,2,3532,1335\\n1,2,4046,1450\\n1,2,3667,1310\\n2,1,2857,1027\\n2,1,3436,1235\\n2,1,3791,1260\\n2,1,3302,1165\\n2,1,3104,1080\\n2,1,3171,1127\\n2,1,3572,1270\\n2,1,3530,1252\\n2,1,3175,1200\\n2,1,3438,1290\\n2,1,3903,1334\\n2,1,3899,1380\\n2,1,3401,1140\\n2,1,3267,1243\\n2,1,3451,1340\\n2,1,3090,1168\\n2,1,3413,1322\\n2,1,3323,1249\\n2,1,3680,1321\\n2,1,3439,1192\\n2,1,3853,1373\\n2,1,3156,1170\\n2,1,3279,1265\\n2,1,3707,1235\\n2,1,4006,1302\\n2,1,3269,1241\\n2,1,3071,1078\\n2,1,3779,1520\\n2,1,3548,1460\\n2,1,3292,1075\\n2,1,3497,1280\\n2,1,3082,1180\\n2,1,3248,1250\\n2,1,3358,1190\\n2,1,3803,1374\\n2,1,3566,1306\\n2,1,3145,1202\\n2,1,3503,1240\\n2,1,3571,1316\\n2,1,3724,1280\\n2,1,3615,1350\\n2,1,3203,1180\\n2,1,3609,1210\\n2,1,3561,1127\\n2,1,3979,1324\\n2,1,3533,1210\\n2,1,3689,1290\\n2,1,3158,1100\\n2,1,4005,1280\\n2,1,3181,1175\\n2,1,3479,1160\\n2,1,3642,1205\\n2,1,3632,1163\\n2,2,3069,1022\\n2,2,3394,1243\\n2,2,3703,1350\\n2,2,3165,1237\\n2,2,3354,1204\\n2,2,3000,1090\\n2,2,3687,1355\\n2,2,3556,1250\\n2,2,2773,1076\\n2,2,3058,1120\\n2,2,3344,1220\\n2,2,3493,1240\\n2,2,3297,1220\\n2,2,3360,1095\\n2,2,3228,1235\\n2,2,3277,1105\\n2,2,3851,1405\\n2,2,3067,1150\\n2,2,3692,1305\\n2,2,3402,1220\\n2,2,3995,1296\\n2,2,3318,1175\\n2,2,2720,955\\n2,2,2937,1070\\n2,2,3580,1320\\n2,2,2939,1060\\n2,2,2989,1130\\n2,2,3586,1250\\n2,2,3156,1225\\n2,2,3246,1180\\n2,2,3170,1178\\n2,2,3268,1142\\n2,2,3389,1130\\n2,2,3381,1185\\n2,2,2864,1012\\n2,2,3740,1280\\n2,2,3479,1103\\n2,2,3647,1408\\n2,2,3716,1300\\n2,2,3284,1246\\n2,2,4204,1380\\n2,2,3735,1350\\n2,2,3218,1060\\n2,2,3685,1350\\n2,2,3704,1220\\n2,2,3214,1110\\n2,2,3394,1215\\n2,2,3233,1104\\n2,2,3352,1170\\n2,2,3391,1120\\n'}"
            ]
          },
          "metadata": {
            "tags": []
          },
          "execution_count": 43
        }
      ]
    },
    {
      "cell_type": "code",
      "metadata": {
        "id": "W0Pszw4ka5DR",
        "colab": {
          "base_uri": "https://localhost:8080/",
          "height": 298
        },
        "outputId": "77a6764e-bc0f-40df-b874-9c4b3d2ff43a"
      },
      "source": [
        "import numpy as np\r\n",
        "import matplotlib.pyplot as plt\r\n",
        "\r\n",
        "def delm(x,y,m,c):\r\n",
        "    n =len(x)\r\n",
        "    sum = 0\r\n",
        "    for i in range(len(x)):\r\n",
        "        sum = sum + x[i]*(y[i] - (m*x[i] + c))\r\n",
        "    return((-2/n)*(sum))\r\n",
        "\r\n",
        "def delc(x,y,m,c):\r\n",
        "    n =len(x)\r\n",
        "    sum = 0\r\n",
        "    for i in range(len(x)):\r\n",
        "        sum = sum + (y[i] - (m*x[i] + c))\r\n",
        "    return((-2/n)*(sum))\r\n",
        "\r\n",
        "def cost(x,y,m,c):\r\n",
        "    sum = 0\r\n",
        "    for i in range(len(x)):\r\n",
        "        sum = sum + (y[i] - (m*x[i] + c))\r\n",
        "    return((1/len(x))*sum)\r\n",
        "\r\n",
        "def descent_step(x,y,m,c,l):\r\n",
        "    \r\n",
        "    m = m - l*delm(x,y,m,c)\r\n",
        "    c = c - l*delc(x,y,m,c)\r\n",
        "\r\n",
        "    cst = cost(x,y,m,c)\r\n",
        "\r\n",
        "    return(m,c,cst)\r\n",
        "\r\n",
        "x = [1,2,3,4,5,6,7,8,9,10,11,12,13,14]\r\n",
        "y = [7,8,9,7,6,54,87,23,987,548,689,877,1025,1154]\r\n",
        "print(len(x))\r\n",
        "print(len(y))\r\n",
        "\r\n",
        "m,c = 0,0\r\n",
        "m_list = [m]\r\n",
        "c_list = [c]\r\n",
        "\r\n",
        "cst = cost(x,y,m,c)\r\n",
        "cst_list = [cst]\r\n",
        "new_cst = cst\r\n",
        "l = 0.0001\r\n",
        "while(cst >= new_cst):\r\n",
        "    cst = new_cst\r\n",
        "    m,c,new_cst = descent_step(x,y,m,c,l)\r\n",
        "    m_list.append(m)\r\n",
        "    c_list.append(c)\r\n",
        "    cst_list.append(new_cst)\r\n",
        "\r\n",
        "\r\n",
        "\r\n",
        "plt.plot(cst_list)\r\n",
        "plt.show()"
      ],
      "execution_count": null,
      "outputs": [
        {
          "output_type": "stream",
          "text": [
            "14\n",
            "14\n"
          ],
          "name": "stdout"
        },
        {
          "output_type": "display_data",
          "data": {
            "image/png": "[encoded data removed]",
            "text/plain": [
              "<Figure size 432x288 with 1 Axes>"
            ]
          },
          "metadata": {
            "tags": [],
            "needs_background": "light"
          }
        }
      ]
    },
    {
      "cell_type": "markdown",
      "metadata": {
        "id": "rurP-c_-IIhH"
      },
      "source": [
        " **POLYNOMIAL REGRESSION**\r\n",
        " "
      ]
    },
    {
      "cell_type": "markdown",
      "metadata": {
        "id": "5z_jwJJ8IU3W"
      },
      "source": [
        "1. Upload file\r\n",
        "2. Read file\r\n",
        "3. Store the input and output variables in x and y\r\n"
      ]
    },
    {
      "cell_type": "code",
      "metadata": {
        "id": "i211gWs7UrWi"
      },
      "source": [
        "import pandas as pd"
      ],
      "execution_count": 44,
      "outputs": []
    },
    {
      "cell_type": "code",
      "metadata": {
        "id": "EtKBqf6kJtBP"
      },
      "source": [
        "prices=pd.read_csv('mllab1.csv') "
      ],
      "execution_count": 45,
      "outputs": []
    },
    {
      "cell_type": "code",
      "metadata": {
        "id": "iPboRA4iXLTf",
        "outputId": "40bb571d-c92b-40db-8dad-3d82becca327",
        "colab": {
          "base_uri": "https://localhost:8080/"
        }
      },
      "source": [
        "import numpy as nm  \r\n",
        "import matplotlib.pyplot as mtp  \r\n",
        "import pandas as pd  \r\n",
        "      \r\n",
        "#importing datasets  \r\n",
        "data_set= pd.read_csv('mllab1.csv')  \r\n",
        "      \r\n",
        "    #Extracting Independent and dependent Variable  \r\n",
        "\r\n",
        "X = data_set.iloc[:, 1:4].values \r\n",
        "y = data_set.iloc[:, 1].values \r\n",
        "        #Fitting the Linear Regression to the dataset  \r\n",
        "from sklearn.linear_model import LinearRegression  \r\n",
        "lin_regs= LinearRegression()  \r\n",
        "lin_regs.fit(x,y)  \r\n",
        "    #Fitting the Polynomial regression to the dataset  \r\n",
        "from sklearn.preprocessing import PolynomialFeatures  \r\n",
        "poly_regs= PolynomialFeatures(degree= 2)  \r\n",
        "x_poly= poly_regs.fit_transform(x)  \r\n",
        "lin_reg_2 =LinearRegression()  \r\n",
        "lin_reg_2.fit(x_poly, y)  \r\n",
        "\r\n"
      ],
      "execution_count": 53,
      "outputs": [
        {
          "output_type": "execute_result",
          "data": {
            "text/plain": [
              "LinearRegression(copy_X=True, fit_intercept=True, n_jobs=None, normalize=False)"
            ]
          },
          "metadata": {
            "tags": []
          },
          "execution_count": 53
        }
      ]
    },
    {
      "cell_type": "code",
      "metadata": {
        "id": "tPn9icgjZwFm",
        "outputId": "e7a72b53-bc19-4eb8-bc68-907dee4b1d95",
        "colab": {
          "base_uri": "https://localhost:8080/",
          "height": 606
        }
      },
      "source": [
        "    #Visulaizing the result for Linear Regression model  \r\n",
        "mtp.scatter(x,y,color=\"blue\")  \r\n",
        "mtp.plot(x,lin_regs.predict(x), color=\"red\")  \r\n",
        "mtp.title(\"Bluff detection model(Linear Regression)\")  \r\n",
        "mtp.xlabel(\"Position Levels\")  \r\n",
        "mtp.ylabel(\"Salary\")  \r\n",
        "mtp.show()  \r\n",
        "        #Visulaizing the result for Polynomial Regression  \r\n",
        "mtp.scatter(x,y,color=\"blue\")  \r\n",
        "mtp.plot(x, lin_reg_2.predict(poly_regs.fit_transform(x)), color=\"red\")  \r\n",
        "mtp.title(\"Bluff detection model(Polynomial Regression)\")  \r\n",
        "mtp.xlabel(\"Position Levels\")  \r\n",
        "mtp.ylabel(\"Salary\")  \r\n",
        "mtp.show()  \r\n",
        "lin_pred = lin_regs.predict([[6.5]])  \r\n",
        "print(lin_pred)\r\n",
        "poly_pred = lin_reg_2.predict(poly_regs.fit_transform([[6.5]]))  \r\n",
        "print(poly_pred)"
      ],
      "execution_count": 54,
      "outputs": [
        {
          "output_type": "display_data",
          "data": {
            "image/png": "[encoded data removed]",
            "text/plain": [
              "<Figure size 432x288 with 1 Axes>"
            ]
          },
          "metadata": {
            "tags": [],
            "needs_background": "light"
          }
        },
        {
          "output_type": "display_data",
          "data": {
            "image/png": "[encoded data removed]",
            "text/plain": [
              "<Figure size 432x288 with 1 Axes>"
            ]
          },
          "metadata": {
            "tags": [],
            "needs_background": "light"
          }
        },
        {
          "output_type": "stream",
          "text": [
            "[6.5]\n",
            "[6.5]\n"
          ],
          "name": "stdout"
        }
      ]
    }
  ]
}